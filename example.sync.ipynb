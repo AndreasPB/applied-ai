{
 "cells": [
  {
   "cell_type": "markdown",
   "id": "87778211",
   "metadata": {},
   "source": [
    "# Fed titel!"
   ]
  },
  {
   "cell_type": "code",
   "execution_count": 7,
   "id": "879b0b53",
   "metadata": {},
   "outputs": [],
   "source": [
    "import time\n",
    "import tqdm"
   ]
  },
  {
   "cell_type": "markdown",
   "id": "2204c608",
   "metadata": {},
   "source": [
    "## Meeeeget vigtigt loop"
   ]
  },
  {
   "cell_type": "code",
   "execution_count": 8,
   "id": "bb201f00",
   "metadata": {
    "scrolled": true
   },
   "outputs": [
    {
     "name": "stderr",
     "output_type": "stream",
     "text": [
      "Loader ingenting 8-): 100%|████████████████████████████| 10/10 [00:05<00:00,  1.97it/s]\n"
     ]
    }
   ],
   "source": [
    "for _ in tqdm.trange(10, desc=\"Loader ingenting 8-)\"):\n",
    "    time.sleep(0.5)"
   ]
  }
 ],
 "metadata": {
  "kernelspec": {
   "display_name": "Python 3 (ipykernel)",
   "language": "python",
   "name": "python3"
  },
  "language_info": {
   "codemirror_mode": {
    "name": "ipython",
    "version": 3
   },
   "file_extension": ".py",
   "mimetype": "text/x-python",
   "name": "python",
   "nbconvert_exporter": "python",
   "pygments_lexer": "ipython3",
   "version": "3.10.1"
  }
 },
 "nbformat": 4,
 "nbformat_minor": 5
}
